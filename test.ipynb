{
 "cells": [
  {
   "cell_type": "code",
   "execution_count": 3,
   "metadata": {},
   "outputs": [],
   "source": [
    "import base64\n",
    "import requests\n",
    "import sys,ssl"
   ]
  },
  {
   "cell_type": "code",
   "execution_count": 4,
   "metadata": {},
   "outputs": [],
   "source": [
    "get_access_url = 'https://aip.baidubce.com/oauth/2.0/token?grant_type=client_credentials&client_id=5fXxiBFCLq8yWIbGjUjCBYOE&client_secret=tiKh2AQExl3LDAuIAQt5Uwxk1dPboSCY'\n",
    "get_word_url = 'https://aip.baidubce.com/rest/2.0/ocr/v1/general_basic'\n"
   ]
  },
  {
   "cell_type": "code",
   "execution_count": 5,
   "metadata": {},
   "outputs": [],
   "source": [
    "word_data = {}\n",
    "file = open('jz.jpg', 'rb')\n",
    "image = file.read()\n",
    "file.close()\n",
    "word_data['image'] = base64.b64encode(image)"
   ]
  },
  {
   "cell_type": "code",
   "execution_count": 6,
   "metadata": {},
   "outputs": [],
   "source": [
    "access_headers = {\n",
    "    'Content-Type': 'application/json;charset=UTF-8'\n",
    "}\n"
   ]
  },
  {
   "cell_type": "code",
   "execution_count": 8,
   "metadata": {},
   "outputs": [],
   "source": [
    "word_headers = {\n",
    "    \"Content-Type\": \"application/x-www-form-urlencoded\",\n",
    "    \"apikey\": \"5fXxiBFCLq8yWIbGjUjCBYOE\"\n",
    "}"
   ]
  },
  {
   "cell_type": "code",
   "execution_count": 9,
   "metadata": {},
   "outputs": [
    {
     "name": "stdout",
     "output_type": "stream",
     "text": [
      "24.5187e17cdf244a740ab664e57bb3b69a.2592000.1546844248.282335-15079076\n"
     ]
    }
   ],
   "source": [
    "res = requests.get(url=get_access_url, headers=access_headers).json()\n",
    "print(res['access_token'])\n"
   ]
  },
  {
   "cell_type": "code",
   "execution_count": 10,
   "metadata": {},
   "outputs": [
    {
     "name": "stdout",
     "output_type": "stream",
     "text": [
      "{'log_id': 3452834995791154728, 'words_result_num': 19, 'words_result': [{'words': '三等奖获奖证书'}, {'words': 'Third Winner Certificate'}, {'words': '颁给'}, {'words': 'FLEcks'}, {'words': 'Awarded to'}, {'words': '苏煜然'}, {'words': 'Yu- Ran Su'}, {'words': '项目名称:兔子先生的月亮'}, {'words': 'for the project: Mr Rabbit moon'}, {'words': '2018年11月编程/编辑马拉松评委:'}, {'words': 'Hackathon/Edit-a-thon November 2018 Referees:'}, {'words': '赵景副系主任'}, {'words': '胡美香教授'}, {'words': '吴雪实验室主管'}, {'words': '王子佳老師'}, {'words': '赵翼老師'}, {'words': '中山大学南方学院新媒体研究中心'}, {'words': 'New Media Research Center, Nanfang College of Sun Yat-sen University'}, {'words': '2018/11/2'}]}\n"
     ]
    }
   ],
   "source": [
    "word_data['access_token'] = res['access_token']\n",
    "res_word = requests.post(url=get_word_url, headers=word_headers, data=word_data).json()\n",
    "print(res_word)"
   ]
  },
  {
   "cell_type": "code",
   "execution_count": null,
   "metadata": {},
   "outputs": [],
   "source": []
  }
 ],
 "metadata": {
  "kernelspec": {
   "display_name": "Python 3",
   "language": "python",
   "name": "python3"
  },
  "language_info": {
   "codemirror_mode": {
    "name": "ipython",
    "version": 3
   },
   "file_extension": ".py",
   "mimetype": "text/x-python",
   "name": "python",
   "nbconvert_exporter": "python",
   "pygments_lexer": "ipython3",
   "version": "3.6.4"
  }
 },
 "nbformat": 4,
 "nbformat_minor": 2
}
